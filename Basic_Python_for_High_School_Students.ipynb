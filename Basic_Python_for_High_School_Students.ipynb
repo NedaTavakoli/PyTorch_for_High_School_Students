{
  "cells": [
    {
      "cell_type": "markdown",
      "id": "1db80e98",
      "metadata": {
        "id": "1db80e98"
      },
      "source": [
        "# Basic Python Concepts for High School Students"
      ]
    },
    {
      "cell_type": "markdown",
      "id": "27266717",
      "metadata": {
        "id": "27266717"
      },
      "source": [
        "## 1. Introduction to Python Variables, Data Types, and Operations"
      ]
    },
    {
      "cell_type": "markdown",
      "source": [],
      "metadata": {
        "id": "hWrUYEyPnCmg"
      },
      "id": "hWrUYEyPnCmg"
    },
    {
      "cell_type": "markdown",
      "source": [
        "[![Open In Colab](https://colab.research.google.com/assets/colab-badge.svg)](https://colab.research.google.com/github/NedaTavakoli/PyTorch_for_High_School_Students/blob/main/Basic_Python_for_High_School_Students.ipynb)\n"
      ],
      "metadata": {
        "id": "Re04_QchnE-U"
      },
      "id": "Re04_QchnE-U"
    },
    {
      "cell_type": "markdown",
      "id": "12ab9fa9",
      "metadata": {
        "id": "12ab9fa9"
      },
      "source": [
        "In this section, we'll cover the basics of Python:\n",
        "- Variables: how to store information\n",
        "- Data types: integers, floats, strings, and booleans\n",
        "- Basic operations: addition, subtraction, multiplication, division"
      ]
    },
    {
      "cell_type": "code",
      "execution_count": null,
      "id": "2c0b10ad",
      "metadata": {
        "id": "2c0b10ad",
        "outputId": "d4e05978-f945-4a3f-ae99-a5420cedc8dd",
        "colab": {
          "base_uri": "https://localhost:8080/"
        }
      },
      "outputs": [
        {
          "output_type": "stream",
          "name": "stdout",
          "text": [
            "Addition: 15\n",
            "Subtraction: 5\n",
            "Multiplication: 50\n",
            "Division: 2.0\n"
          ]
        }
      ],
      "source": [
        "# Example: Working with variables and basic operations\n",
        "# Assigning values to variables\n",
        "x = 10\n",
        "y = 5\n",
        "\n",
        "# Basic arithmetic operations\n",
        "addition = x + y\n",
        "subtraction = x - y\n",
        "multiplication = x * y\n",
        "division = x / y\n",
        "\n",
        "# Display the results\n",
        "print('Addition:', addition)\n",
        "print('Subtraction:', subtraction)\n",
        "print('Multiplication:', multiplication)\n",
        "print('Division:', division)\n"
      ]
    },
    {
      "cell_type": "markdown",
      "id": "a1eebe8f",
      "metadata": {
        "id": "a1eebe8f"
      },
      "source": [
        "## 2. Introduction to Lists and Loops"
      ]
    },
    {
      "cell_type": "markdown",
      "id": "c5179ad9",
      "metadata": {
        "id": "c5179ad9"
      },
      "source": [
        "In this section, we'll learn how to work with lists and loops in Python. Lists are used to store multiple items, and loops help us repeat actions.\n",
        "- Lists: storing multiple values\n",
        "- Loops: using `for` and `while` loops to iterate over data"
      ]
    },
    {
      "cell_type": "code",
      "execution_count": null,
      "id": "7c7941a6",
      "metadata": {
        "id": "7c7941a6",
        "outputId": "3ab7c1d4-fc35-4216-f1b4-2dd15e6b93ed",
        "colab": {
          "base_uri": "https://localhost:8080/"
        }
      },
      "outputs": [
        {
          "output_type": "stream",
          "name": "stdout",
          "text": [
            "The number is: 1\n",
            "The number is: 2\n",
            "The number is: 3\n",
            "The number is: 4\n",
            "The number is: 5\n"
          ]
        }
      ],
      "source": [
        "# Example: Working with lists and loops\n",
        "# Define a list of numbers\n",
        "numbers = [1, 2, 3, 4, 5]\n",
        "\n",
        "# Iterate through the list using a for loop\n",
        "for number in numbers:\n",
        "    print(f'The number is: {number}')\n"
      ]
    },
    {
      "cell_type": "code",
      "execution_count": null,
      "id": "8c92a1b6",
      "metadata": {
        "id": "8c92a1b6",
        "outputId": "775ff1f0-1c4a-48d3-8a6c-ce55a2c0ef68",
        "colab": {
          "base_uri": "https://localhost:8080/"
        }
      },
      "outputs": [
        {
          "output_type": "stream",
          "name": "stdout",
          "text": [
            "Countdown: 5\n",
            "Countdown: 4\n",
            "Countdown: 3\n",
            "Countdown: 2\n",
            "Countdown: 1\n"
          ]
        }
      ],
      "source": [
        "# Example: Using a while loop to count down from 5\n",
        "count = 5\n",
        "while count > 0:\n",
        "    print(f'Countdown: {count}')\n",
        "    count -= 1\n"
      ]
    },
    {
      "cell_type": "markdown",
      "id": "2d390cdb",
      "metadata": {
        "id": "2d390cdb"
      },
      "source": [
        "## 3. Functions and Reusability"
      ]
    },
    {
      "cell_type": "markdown",
      "id": "edb70ab8",
      "metadata": {
        "id": "edb70ab8"
      },
      "source": [
        "Functions allow us to reuse code and organize our programs. In this section, we'll learn how to create functions and use them in our programs.\n",
        "- Defining functions using the `def` keyword\n",
        "- Passing arguments and returning values"
      ]
    },
    {
      "cell_type": "code",
      "execution_count": null,
      "id": "f99c0027",
      "metadata": {
        "id": "f99c0027",
        "outputId": "b4271c7f-e98a-4971-a4fb-1866c0fae546",
        "colab": {
          "base_uri": "https://localhost:8080/"
        }
      },
      "outputs": [
        {
          "output_type": "stream",
          "name": "stdout",
          "text": [
            "Result of adding 3 and 7: 10\n"
          ]
        }
      ],
      "source": [
        "# Example: Creating a function to add two numbers\n",
        "def add_numbers(a, b):\n",
        "    return a + b\n",
        "\n",
        "# Using the function\n",
        "result = add_numbers(3, 7)\n",
        "print('Result of adding 3 and 7:', result)\n"
      ]
    },
    {
      "cell_type": "markdown",
      "id": "f3deb500",
      "metadata": {
        "id": "f3deb500"
      },
      "source": [
        "## 4. Working with Libraries"
      ]
    },
    {
      "cell_type": "markdown",
      "id": "f102856b",
      "metadata": {
        "id": "f102856b"
      },
      "source": [
        "Libraries like NumPy allow us to perform complex mathematical operations easily. We'll learn how to install and use NumPy to work with arrays.\n",
        "- Installing and importing libraries\n",
        "- Using NumPy arrays"
      ]
    },
    {
      "cell_type": "code",
      "execution_count": null,
      "id": "91018cea",
      "metadata": {
        "id": "91018cea",
        "outputId": "c7d6873e-2100-4182-f586-17e5c411fcc9",
        "colab": {
          "base_uri": "https://localhost:8080/"
        }
      },
      "outputs": [
        {
          "output_type": "stream",
          "name": "stdout",
          "text": [
            "Requirement already satisfied: numpy in /usr/local/lib/python3.10/dist-packages (1.26.4)\n",
            "NumPy array: [1 2 3 4 5]\n"
          ]
        }
      ],
      "source": [
        "# Install NumPy (uncomment the line below if you're running this in Google Colab)\n",
        "!pip install numpy\n",
        "\n",
        "# Import NumPy\n",
        "import numpy as np\n",
        "\n",
        "# Create a NumPy array\n",
        "array = np.array([1, 2, 3, 4, 5])\n",
        "print('NumPy array:', array)\n"
      ]
    },
    {
      "cell_type": "markdown",
      "id": "d317d9bc",
      "metadata": {
        "id": "d317d9bc"
      },
      "source": [
        "## Conclusion\n",
        "In this notebook, we've covered the basics of Python, including variables, lists, loops, functions, and how to use libraries like NumPy. These foundational skills will help you in your journey to learn more advanced programming concepts and work with tools like PyTorch."
      ]
    }
  ],
  "metadata": {
    "colab": {
      "provenance": []
    },
    "language_info": {
      "name": "python"
    },
    "kernelspec": {
      "name": "python3",
      "display_name": "Python 3"
    }
  },
  "nbformat": 4,
  "nbformat_minor": 5
}